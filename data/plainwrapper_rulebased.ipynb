{
  "cells": [
    {
      "cell_type": "markdown",
      "metadata": {
        "id": "4emaauRqdaTf"
      },
      "source": []
    },
    {
      "cell_type": "code",
      "execution_count": 6,
      "metadata": {
        "colab": {
          "base_uri": "https://localhost:8080/"
        },
        "collapsed": true,
        "id": "7qKKBBd1dYzm",
        "outputId": "50f2adc6-208e-42c9-9d9b-7845dbe57951"
      },
      "outputs": [
        {
          "name": "stdout",
          "output_type": "stream",
          "text": [
            "Requirement already satisfied: openai==0.28 in c:\\project folder\\weather_assistant\\venv\\lib\\site-packages (0.28.0)\n",
            "Requirement already satisfied: requests in c:\\project folder\\weather_assistant\\venv\\lib\\site-packages (2.32.3)\n",
            "Requirement already satisfied: tqdm in c:\\project folder\\weather_assistant\\venv\\lib\\site-packages (from openai==0.28) (4.66.4)\n",
            "Requirement already satisfied: aiohttp in c:\\project folder\\weather_assistant\\venv\\lib\\site-packages (from openai==0.28) (3.9.5)\n",
            "Requirement already satisfied: charset-normalizer<4,>=2 in c:\\project folder\\weather_assistant\\venv\\lib\\site-packages (from requests) (3.3.2)\n",
            "Requirement already satisfied: idna<4,>=2.5 in c:\\project folder\\weather_assistant\\venv\\lib\\site-packages (from requests) (3.7)\n",
            "Requirement already satisfied: urllib3<3,>=1.21.1 in c:\\project folder\\weather_assistant\\venv\\lib\\site-packages (from requests) (2.2.2)\n",
            "Requirement already satisfied: certifi>=2017.4.17 in c:\\project folder\\weather_assistant\\venv\\lib\\site-packages (from requests) (2024.7.4)\n",
            "Requirement already satisfied: aiosignal>=1.1.2 in c:\\project folder\\weather_assistant\\venv\\lib\\site-packages (from aiohttp->openai==0.28) (1.3.1)\n",
            "Requirement already satisfied: attrs>=17.3.0 in c:\\project folder\\weather_assistant\\venv\\lib\\site-packages (from aiohttp->openai==0.28) (23.2.0)\n",
            "Requirement already satisfied: frozenlist>=1.1.1 in c:\\project folder\\weather_assistant\\venv\\lib\\site-packages (from aiohttp->openai==0.28) (1.4.1)\n",
            "Requirement already satisfied: multidict<7.0,>=4.5 in c:\\project folder\\weather_assistant\\venv\\lib\\site-packages (from aiohttp->openai==0.28) (6.0.5)\n",
            "Requirement already satisfied: yarl<2.0,>=1.0 in c:\\project folder\\weather_assistant\\venv\\lib\\site-packages (from aiohttp->openai==0.28) (1.9.4)\n",
            "Requirement already satisfied: colorama in c:\\project folder\\weather_assistant\\venv\\lib\\site-packages (from tqdm->openai==0.28) (0.4.6)\n"
          ]
        }
      ],
      "source": [
        "!pip install openai==0.28 requests\n"
      ]
    },
    {
      "cell_type": "code",
      "execution_count": 7,
      "metadata": {
        "colab": {
          "base_uri": "https://localhost:8080/"
        },
        "collapsed": true,
        "id": "2uhNQMwxngtj",
        "outputId": "6418de62-2fe3-4fe2-83cd-2910cf7ddf29"
      },
      "outputs": [
        {
          "name": "stdout",
          "output_type": "stream",
          "text": [
            "Requirement already satisfied: gradio in c:\\project folder\\weather_assistant\\venv\\lib\\site-packages (4.38.1)\n",
            "Requirement already satisfied: aiofiles<24.0,>=22.0 in c:\\project folder\\weather_assistant\\venv\\lib\\site-packages (from gradio) (23.2.1)\n",
            "Requirement already satisfied: altair<6.0,>=5.0 in c:\\project folder\\weather_assistant\\venv\\lib\\site-packages (from gradio) (5.3.0)\n",
            "Requirement already satisfied: fastapi in c:\\project folder\\weather_assistant\\venv\\lib\\site-packages (from gradio) (0.111.1)\n",
            "Requirement already satisfied: ffmpy in c:\\project folder\\weather_assistant\\venv\\lib\\site-packages (from gradio) (0.3.2)\n",
            "Requirement already satisfied: gradio-client==1.1.0 in c:\\project folder\\weather_assistant\\venv\\lib\\site-packages (from gradio) (1.1.0)\n",
            "Requirement already satisfied: httpx>=0.24.1 in c:\\project folder\\weather_assistant\\venv\\lib\\site-packages (from gradio) (0.27.0)\n",
            "Requirement already satisfied: huggingface-hub>=0.19.3 in c:\\project folder\\weather_assistant\\venv\\lib\\site-packages (from gradio) (0.24.0)\n",
            "Requirement already satisfied: importlib-resources<7.0,>=1.3 in c:\\project folder\\weather_assistant\\venv\\lib\\site-packages (from gradio) (6.4.0)\n",
            "Requirement already satisfied: jinja2<4.0 in c:\\project folder\\weather_assistant\\venv\\lib\\site-packages (from gradio) (3.1.4)\n",
            "Requirement already satisfied: markupsafe~=2.0 in c:\\project folder\\weather_assistant\\venv\\lib\\site-packages (from gradio) (2.1.5)\n",
            "Requirement already satisfied: matplotlib~=3.0 in c:\\project folder\\weather_assistant\\venv\\lib\\site-packages (from gradio) (3.9.1)\n",
            "Requirement already satisfied: numpy<3.0,>=1.0 in c:\\project folder\\weather_assistant\\venv\\lib\\site-packages (from gradio) (2.0.0)\n",
            "Requirement already satisfied: orjson~=3.0 in c:\\project folder\\weather_assistant\\venv\\lib\\site-packages (from gradio) (3.10.6)\n",
            "Requirement already satisfied: packaging in c:\\project folder\\weather_assistant\\venv\\lib\\site-packages (from gradio) (24.1)\n",
            "Requirement already satisfied: pandas<3.0,>=1.0 in c:\\project folder\\weather_assistant\\venv\\lib\\site-packages (from gradio) (2.2.2)\n",
            "Requirement already satisfied: pillow<11.0,>=8.0 in c:\\project folder\\weather_assistant\\venv\\lib\\site-packages (from gradio) (10.4.0)\n",
            "Requirement already satisfied: pydantic>=2.0 in c:\\project folder\\weather_assistant\\venv\\lib\\site-packages (from gradio) (2.8.2)\n",
            "Requirement already satisfied: pydub in c:\\project folder\\weather_assistant\\venv\\lib\\site-packages (from gradio) (0.25.1)\n",
            "Requirement already satisfied: python-multipart>=0.0.9 in c:\\project folder\\weather_assistant\\venv\\lib\\site-packages (from gradio) (0.0.9)\n",
            "Requirement already satisfied: pyyaml<7.0,>=5.0 in c:\\project folder\\weather_assistant\\venv\\lib\\site-packages (from gradio) (6.0.1)\n",
            "Requirement already satisfied: ruff>=0.2.2 in c:\\project folder\\weather_assistant\\venv\\lib\\site-packages (from gradio) (0.5.3)\n",
            "Requirement already satisfied: semantic-version~=2.0 in c:\\project folder\\weather_assistant\\venv\\lib\\site-packages (from gradio) (2.10.0)\n",
            "Requirement already satisfied: tomlkit==0.12.0 in c:\\project folder\\weather_assistant\\venv\\lib\\site-packages (from gradio) (0.12.0)\n",
            "Requirement already satisfied: typer<1.0,>=0.12 in c:\\project folder\\weather_assistant\\venv\\lib\\site-packages (from gradio) (0.12.3)\n",
            "Requirement already satisfied: typing-extensions~=4.0 in c:\\project folder\\weather_assistant\\venv\\lib\\site-packages (from gradio) (4.12.2)\n",
            "Requirement already satisfied: urllib3~=2.0 in c:\\project folder\\weather_assistant\\venv\\lib\\site-packages (from gradio) (2.2.2)\n",
            "Requirement already satisfied: uvicorn>=0.14.0 in c:\\project folder\\weather_assistant\\venv\\lib\\site-packages (from gradio) (0.30.1)\n",
            "Requirement already satisfied: fsspec in c:\\project folder\\weather_assistant\\venv\\lib\\site-packages (from gradio-client==1.1.0->gradio) (2024.6.1)\n",
            "Requirement already satisfied: websockets<12.0,>=10.0 in c:\\project folder\\weather_assistant\\venv\\lib\\site-packages (from gradio-client==1.1.0->gradio) (11.0.3)\n",
            "Requirement already satisfied: jsonschema>=3.0 in c:\\project folder\\weather_assistant\\venv\\lib\\site-packages (from altair<6.0,>=5.0->gradio) (4.23.0)\n",
            "Requirement already satisfied: toolz in c:\\project folder\\weather_assistant\\venv\\lib\\site-packages (from altair<6.0,>=5.0->gradio) (0.12.1)\n",
            "Requirement already satisfied: anyio in c:\\project folder\\weather_assistant\\venv\\lib\\site-packages (from httpx>=0.24.1->gradio) (4.4.0)\n",
            "Requirement already satisfied: certifi in c:\\project folder\\weather_assistant\\venv\\lib\\site-packages (from httpx>=0.24.1->gradio) (2024.7.4)\n",
            "Requirement already satisfied: httpcore==1.* in c:\\project folder\\weather_assistant\\venv\\lib\\site-packages (from httpx>=0.24.1->gradio) (1.0.5)\n",
            "Requirement already satisfied: idna in c:\\project folder\\weather_assistant\\venv\\lib\\site-packages (from httpx>=0.24.1->gradio) (3.7)\n",
            "Requirement already satisfied: sniffio in c:\\project folder\\weather_assistant\\venv\\lib\\site-packages (from httpx>=0.24.1->gradio) (1.3.1)\n",
            "Requirement already satisfied: h11<0.15,>=0.13 in c:\\project folder\\weather_assistant\\venv\\lib\\site-packages (from httpcore==1.*->httpx>=0.24.1->gradio) (0.14.0)\n",
            "Requirement already satisfied: filelock in c:\\project folder\\weather_assistant\\venv\\lib\\site-packages (from huggingface-hub>=0.19.3->gradio) (3.15.4)\n",
            "Requirement already satisfied: requests in c:\\project folder\\weather_assistant\\venv\\lib\\site-packages (from huggingface-hub>=0.19.3->gradio) (2.32.3)\n",
            "Requirement already satisfied: tqdm>=4.42.1 in c:\\project folder\\weather_assistant\\venv\\lib\\site-packages (from huggingface-hub>=0.19.3->gradio) (4.66.4)\n",
            "Requirement already satisfied: contourpy>=1.0.1 in c:\\project folder\\weather_assistant\\venv\\lib\\site-packages (from matplotlib~=3.0->gradio) (1.2.1)\n",
            "Requirement already satisfied: cycler>=0.10 in c:\\project folder\\weather_assistant\\venv\\lib\\site-packages (from matplotlib~=3.0->gradio) (0.12.1)\n",
            "Requirement already satisfied: fonttools>=4.22.0 in c:\\project folder\\weather_assistant\\venv\\lib\\site-packages (from matplotlib~=3.0->gradio) (4.53.1)\n",
            "Requirement already satisfied: kiwisolver>=1.3.1 in c:\\project folder\\weather_assistant\\venv\\lib\\site-packages (from matplotlib~=3.0->gradio) (1.4.5)\n",
            "Requirement already satisfied: pyparsing>=2.3.1 in c:\\project folder\\weather_assistant\\venv\\lib\\site-packages (from matplotlib~=3.0->gradio) (3.1.2)\n",
            "Requirement already satisfied: python-dateutil>=2.7 in c:\\project folder\\weather_assistant\\venv\\lib\\site-packages (from matplotlib~=3.0->gradio) (2.9.0.post0)\n",
            "Requirement already satisfied: pytz>=2020.1 in c:\\project folder\\weather_assistant\\venv\\lib\\site-packages (from pandas<3.0,>=1.0->gradio) (2024.1)\n",
            "Requirement already satisfied: tzdata>=2022.7 in c:\\project folder\\weather_assistant\\venv\\lib\\site-packages (from pandas<3.0,>=1.0->gradio) (2024.1)\n",
            "Requirement already satisfied: annotated-types>=0.4.0 in c:\\project folder\\weather_assistant\\venv\\lib\\site-packages (from pydantic>=2.0->gradio) (0.7.0)\n",
            "Requirement already satisfied: pydantic-core==2.20.1 in c:\\project folder\\weather_assistant\\venv\\lib\\site-packages (from pydantic>=2.0->gradio) (2.20.1)\n",
            "Requirement already satisfied: click>=8.0.0 in c:\\project folder\\weather_assistant\\venv\\lib\\site-packages (from typer<1.0,>=0.12->gradio) (8.1.7)\n",
            "Requirement already satisfied: shellingham>=1.3.0 in c:\\project folder\\weather_assistant\\venv\\lib\\site-packages (from typer<1.0,>=0.12->gradio) (1.5.4)\n",
            "Requirement already satisfied: rich>=10.11.0 in c:\\project folder\\weather_assistant\\venv\\lib\\site-packages (from typer<1.0,>=0.12->gradio) (13.7.1)\n",
            "Requirement already satisfied: starlette<0.38.0,>=0.37.2 in c:\\project folder\\weather_assistant\\venv\\lib\\site-packages (from fastapi->gradio) (0.37.2)\n",
            "Requirement already satisfied: fastapi-cli>=0.0.2 in c:\\project folder\\weather_assistant\\venv\\lib\\site-packages (from fastapi->gradio) (0.0.4)\n",
            "Requirement already satisfied: email_validator>=2.0.0 in c:\\project folder\\weather_assistant\\venv\\lib\\site-packages (from fastapi->gradio) (2.2.0)\n",
            "Requirement already satisfied: colorama in c:\\project folder\\weather_assistant\\venv\\lib\\site-packages (from click>=8.0.0->typer<1.0,>=0.12->gradio) (0.4.6)\n",
            "Requirement already satisfied: dnspython>=2.0.0 in c:\\project folder\\weather_assistant\\venv\\lib\\site-packages (from email_validator>=2.0.0->fastapi->gradio) (2.6.1)\n",
            "Requirement already satisfied: attrs>=22.2.0 in c:\\project folder\\weather_assistant\\venv\\lib\\site-packages (from jsonschema>=3.0->altair<6.0,>=5.0->gradio) (23.2.0)\n",
            "Requirement already satisfied: jsonschema-specifications>=2023.03.6 in c:\\project folder\\weather_assistant\\venv\\lib\\site-packages (from jsonschema>=3.0->altair<6.0,>=5.0->gradio) (2023.12.1)\n",
            "Requirement already satisfied: referencing>=0.28.4 in c:\\project folder\\weather_assistant\\venv\\lib\\site-packages (from jsonschema>=3.0->altair<6.0,>=5.0->gradio) (0.35.1)\n",
            "Requirement already satisfied: rpds-py>=0.7.1 in c:\\project folder\\weather_assistant\\venv\\lib\\site-packages (from jsonschema>=3.0->altair<6.0,>=5.0->gradio) (0.19.0)\n",
            "Requirement already satisfied: six>=1.5 in c:\\project folder\\weather_assistant\\venv\\lib\\site-packages (from python-dateutil>=2.7->matplotlib~=3.0->gradio) (1.16.0)\n",
            "Requirement already satisfied: markdown-it-py>=2.2.0 in c:\\project folder\\weather_assistant\\venv\\lib\\site-packages (from rich>=10.11.0->typer<1.0,>=0.12->gradio) (3.0.0)\n",
            "Requirement already satisfied: pygments<3.0.0,>=2.13.0 in c:\\project folder\\weather_assistant\\venv\\lib\\site-packages (from rich>=10.11.0->typer<1.0,>=0.12->gradio) (2.18.0)\n",
            "Requirement already satisfied: httptools>=0.5.0 in c:\\project folder\\weather_assistant\\venv\\lib\\site-packages (from uvicorn[standard]>=0.12.0->fastapi->gradio) (0.6.1)\n",
            "Requirement already satisfied: python-dotenv>=0.13 in c:\\project folder\\weather_assistant\\venv\\lib\\site-packages (from uvicorn[standard]>=0.12.0->fastapi->gradio) (1.0.1)\n",
            "Requirement already satisfied: watchfiles>=0.13 in c:\\project folder\\weather_assistant\\venv\\lib\\site-packages (from uvicorn[standard]>=0.12.0->fastapi->gradio) (0.22.0)\n",
            "Requirement already satisfied: charset-normalizer<4,>=2 in c:\\project folder\\weather_assistant\\venv\\lib\\site-packages (from requests->huggingface-hub>=0.19.3->gradio) (3.3.2)\n",
            "Requirement already satisfied: mdurl~=0.1 in c:\\project folder\\weather_assistant\\venv\\lib\\site-packages (from markdown-it-py>=2.2.0->rich>=10.11.0->typer<1.0,>=0.12->gradio) (0.1.2)\n"
          ]
        }
      ],
      "source": [
        "!pip install gradio"
      ]
    },
    {
      "cell_type": "markdown",
      "metadata": {
        "id": "a5mtOaL2sqn0"
      },
      "source": [
        "Use your own openai key"
      ]
    },
    {
      "cell_type": "code",
      "execution_count": 9,
      "metadata": {
        "id": "sutqTlV6nfs9"
      },
      "outputs": [
        {
          "name": "stdout",
          "output_type": "stream",
          "text": [
            "Running on local URL:  http://127.0.0.1:7864\n",
            "Running on public URL: https://691f1565354069d6b5.gradio.live\n",
            "\n",
            "This share link expires in 72 hours. For free permanent hosting and GPU upgrades, run `gradio deploy` from Terminal to deploy to Spaces (https://huggingface.co/spaces)\n"
          ]
        },
        {
          "data": {
            "text/html": [
              "<div><iframe src=\"https://691f1565354069d6b5.gradio.live\" width=\"100%\" height=\"500\" allow=\"autoplay; camera; microphone; clipboard-read; clipboard-write;\" frameborder=\"0\" allowfullscreen></iframe></div>"
            ],
            "text/plain": [
              "<IPython.core.display.HTML object>"
            ]
          },
          "metadata": {},
          "output_type": "display_data"
        },
        {
          "data": {
            "text/plain": []
          },
          "execution_count": 9,
          "metadata": {},
          "output_type": "execute_result"
        }
      ],
      "source": [
        "import gradio as gr\n",
        "import requests\n",
        "import openai \n",
        "\n",
        "# Initialize OpenAI client\n",
        "openai.api_key = \"OPENAI_API_KEY\"\n",
        "\n",
        "# Function to fetch current weather from OpenWeatherMap\n",
        "def get_current_weather(location):\n",
        "    api_key = \"WEATHER_API_KEY\"\n",
        "    url = f\"http://api.openweathermap.org/data/2.5/weather?q={location}&appid={api_key}\"\n",
        "    response = requests.get(url)\n",
        "    data = response.json()\n",
        "    kelvin_temp = data['main']['temp']\n",
        "    celsius_temp = kelvin_temp - 273.15\n",
        "    weather_description = data['weather'][0]['description']\n",
        "    return {\n",
        "        \"location\": location,\n",
        "        \"temperature\": round(celsius_temp, 2),\n",
        "        \"weather\": weather_description\n",
        "    }\n",
        "\n",
        "# Function to handle user input and interaction\n",
        "def weather_chat(user_message):\n",
        "    # Check if the user wants to know the weather\n",
        "    if \"weather\" in user_message.lower():\n",
        "        # Extract the location from the user's message\n",
        "        location = user_message.split(' ')[-1]\n",
        "\n",
        "        # Fetch the current weather data\n",
        "        weather_data = get_current_weather(location)\n",
        "\n",
        "        # Prepare the messages for OpenAI\n",
        "        messages = [\n",
        "            {\"role\": \"user\", \"content\": user_message},\n",
        "            {\"role\": \"system\", \"content\": f\"Sure, let me find the current weather information for {location}.\"},\n",
        "            {\"role\": \"system\", \"content\": f\"The current temperature in {location} is {weather_data['temperature']}°C and the weather is {weather_data['weather']}.\"}\n",
        "        ]\n",
        "\n",
        "        # Send the messages to OpenAI\n",
        "        response = openai.ChatCompletion.create(\n",
        "            model=\"gpt-3.5-turbo\",\n",
        "            temperature = 0,\n",
        "            max_tokens=100,\n",
        "            stop = [\"thanks\"],\n",
        "            top_p=0,\n",
        "            frequency_penalty=0,\n",
        "            presence_penalty=0,\n",
        "            messages=messages\n",
        "        )\n",
        "\n",
        "        # Return OpenAI response\n",
        "        return response.choices[0].message.content\n",
        "\n",
        "    else:\n",
        "        # Handle other types of user messages\n",
        "        return \"I'm sorry, I am Weather Bot and only answer Weather related Questions\"\n",
        "\n",
        "# Define Gradio interface\n",
        "iface = gr.Interface(\n",
        "    fn=weather_chat,\n",
        "    inputs=gr.Textbox(),\n",
        "    outputs=gr.Textbox(label=\"Response:\"),\n",
        "    title = \"Weather Bot\",\n",
        "    description = \"Ask me anything about the weather!\"\n",
        ")\n",
        "\n",
        "# Launch the Gradio interface\n",
        "iface.launch(share=\"True\")\n"
      ]
    },
    {
      "cell_type": "code",
      "execution_count": 4,
      "metadata": {
        "colab": {
          "base_uri": "https://localhost:8080/"
        },
        "id": "Zlvr8TWFSg8G",
        "outputId": "ca691537-103c-42e2-c25d-84b1a184188e"
      },
      "outputs": [
        {
          "data": {
            "text/plain": [
              "{'location': 'Delhi', 'temperature': 33.05, 'weather': 'haze'}"
            ]
          },
          "execution_count": 4,
          "metadata": {},
          "output_type": "execute_result"
        }
      ],
      "source": [
        "get_current_weather(\"Delhi\")"
      ]
    }
  ],
  "metadata": {
    "colab": {
      "provenance": []
    },
    "kernelspec": {
      "display_name": "Python 3",
      "name": "python3"
    },
    "language_info": {
      "codemirror_mode": {
        "name": "ipython",
        "version": 3
      },
      "file_extension": ".py",
      "mimetype": "text/x-python",
      "name": "python",
      "nbconvert_exporter": "python",
      "pygments_lexer": "ipython3",
      "version": "3.12.0"
    }
  },
  "nbformat": 4,
  "nbformat_minor": 0
}
