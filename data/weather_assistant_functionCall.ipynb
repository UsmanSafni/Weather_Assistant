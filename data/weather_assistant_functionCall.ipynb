{
  "cells": [
    {
      "cell_type": "code",
      "execution_count": 1,
      "metadata": {
        "colab": {
          "base_uri": "https://localhost:8080/"
        },
        "id": "ucYgGeC1wbWL",
        "outputId": "6d22780d-5631-4f3a-efb7-58362feed682"
      },
      "outputs": [
        {
          "name": "stdout",
          "output_type": "stream",
          "text": [
            "Collecting openai==0.28\n",
            "  Using cached openai-0.28.0-py3-none-any.whl.metadata (13 kB)\n",
            "Requirement already satisfied: requests in c:\\project folder\\weather_assistant\\venv\\lib\\site-packages (2.32.3)\n",
            "Requirement already satisfied: tqdm in c:\\project folder\\weather_assistant\\venv\\lib\\site-packages (from openai==0.28) (4.66.4)\n",
            "Collecting aiohttp (from openai==0.28)\n",
            "  Using cached aiohttp-3.9.5-cp312-cp312-win_amd64.whl.metadata (7.7 kB)\n",
            "Requirement already satisfied: charset-normalizer<4,>=2 in c:\\project folder\\weather_assistant\\venv\\lib\\site-packages (from requests) (3.3.2)\n",
            "Requirement already satisfied: idna<4,>=2.5 in c:\\project folder\\weather_assistant\\venv\\lib\\site-packages (from requests) (3.7)\n",
            "Requirement already satisfied: urllib3<3,>=1.21.1 in c:\\project folder\\weather_assistant\\venv\\lib\\site-packages (from requests) (2.2.2)\n",
            "Requirement already satisfied: certifi>=2017.4.17 in c:\\project folder\\weather_assistant\\venv\\lib\\site-packages (from requests) (2024.7.4)\n",
            "Collecting aiosignal>=1.1.2 (from aiohttp->openai==0.28)\n",
            "  Using cached aiosignal-1.3.1-py3-none-any.whl.metadata (4.0 kB)\n",
            "Requirement already satisfied: attrs>=17.3.0 in c:\\project folder\\weather_assistant\\venv\\lib\\site-packages (from aiohttp->openai==0.28) (23.2.0)\n",
            "Collecting frozenlist>=1.1.1 (from aiohttp->openai==0.28)\n",
            "  Using cached frozenlist-1.4.1-cp312-cp312-win_amd64.whl.metadata (12 kB)\n",
            "Collecting multidict<7.0,>=4.5 (from aiohttp->openai==0.28)\n",
            "  Using cached multidict-6.0.5-cp312-cp312-win_amd64.whl.metadata (4.3 kB)\n",
            "Collecting yarl<2.0,>=1.0 (from aiohttp->openai==0.28)\n",
            "  Using cached yarl-1.9.4-cp312-cp312-win_amd64.whl.metadata (32 kB)\n",
            "Requirement already satisfied: colorama in c:\\project folder\\weather_assistant\\venv\\lib\\site-packages (from tqdm->openai==0.28) (0.4.6)\n",
            "Using cached openai-0.28.0-py3-none-any.whl (76 kB)\n",
            "Using cached aiohttp-3.9.5-cp312-cp312-win_amd64.whl (369 kB)\n",
            "Using cached aiosignal-1.3.1-py3-none-any.whl (7.6 kB)\n",
            "Using cached frozenlist-1.4.1-cp312-cp312-win_amd64.whl (50 kB)\n",
            "Using cached multidict-6.0.5-cp312-cp312-win_amd64.whl (27 kB)\n",
            "Using cached yarl-1.9.4-cp312-cp312-win_amd64.whl (76 kB)\n",
            "Installing collected packages: multidict, frozenlist, yarl, aiosignal, aiohttp, openai\n",
            "  Attempting uninstall: openai\n",
            "    Found existing installation: openai 1.35.15\n",
            "    Uninstalling openai-1.35.15:\n",
            "      Successfully uninstalled openai-1.35.15\n",
            "Successfully installed aiohttp-3.9.5 aiosignal-1.3.1 frozenlist-1.4.1 multidict-6.0.5 openai-0.28.0 yarl-1.9.4\n"
          ]
        }
      ],
      "source": [
        "!pip install openai==0.28 requests\n"
      ]
    },
    {
      "cell_type": "code",
      "execution_count": 2,
      "metadata": {
        "colab": {
          "base_uri": "https://localhost:8080/"
        },
        "id": "WWdpzcKZ2Qkm",
        "outputId": "209c898d-4bb6-4bdf-d6bf-9186b00c48a8"
      },
      "outputs": [
        {
          "name": "stdout",
          "output_type": "stream",
          "text": [
            "Requirement already satisfied: gradio in c:\\project folder\\weather_assistant\\venv\\lib\\site-packages (4.38.1)\n",
            "Requirement already satisfied: aiofiles<24.0,>=22.0 in c:\\project folder\\weather_assistant\\venv\\lib\\site-packages (from gradio) (23.2.1)\n",
            "Requirement already satisfied: altair<6.0,>=5.0 in c:\\project folder\\weather_assistant\\venv\\lib\\site-packages (from gradio) (5.3.0)\n",
            "Requirement already satisfied: fastapi in c:\\project folder\\weather_assistant\\venv\\lib\\site-packages (from gradio) (0.111.1)\n",
            "Requirement already satisfied: ffmpy in c:\\project folder\\weather_assistant\\venv\\lib\\site-packages (from gradio) (0.3.2)\n",
            "Requirement already satisfied: gradio-client==1.1.0 in c:\\project folder\\weather_assistant\\venv\\lib\\site-packages (from gradio) (1.1.0)\n",
            "Requirement already satisfied: httpx>=0.24.1 in c:\\project folder\\weather_assistant\\venv\\lib\\site-packages (from gradio) (0.27.0)\n",
            "Requirement already satisfied: huggingface-hub>=0.19.3 in c:\\project folder\\weather_assistant\\venv\\lib\\site-packages (from gradio) (0.24.0)\n",
            "Requirement already satisfied: importlib-resources<7.0,>=1.3 in c:\\project folder\\weather_assistant\\venv\\lib\\site-packages (from gradio) (6.4.0)\n",
            "Requirement already satisfied: jinja2<4.0 in c:\\project folder\\weather_assistant\\venv\\lib\\site-packages (from gradio) (3.1.4)\n",
            "Requirement already satisfied: markupsafe~=2.0 in c:\\project folder\\weather_assistant\\venv\\lib\\site-packages (from gradio) (2.1.5)\n",
            "Requirement already satisfied: matplotlib~=3.0 in c:\\project folder\\weather_assistant\\venv\\lib\\site-packages (from gradio) (3.9.1)\n",
            "Requirement already satisfied: numpy<3.0,>=1.0 in c:\\project folder\\weather_assistant\\venv\\lib\\site-packages (from gradio) (2.0.0)\n",
            "Requirement already satisfied: orjson~=3.0 in c:\\project folder\\weather_assistant\\venv\\lib\\site-packages (from gradio) (3.10.6)\n",
            "Requirement already satisfied: packaging in c:\\project folder\\weather_assistant\\venv\\lib\\site-packages (from gradio) (24.1)\n",
            "Requirement already satisfied: pandas<3.0,>=1.0 in c:\\project folder\\weather_assistant\\venv\\lib\\site-packages (from gradio) (2.2.2)\n",
            "Requirement already satisfied: pillow<11.0,>=8.0 in c:\\project folder\\weather_assistant\\venv\\lib\\site-packages (from gradio) (10.4.0)\n",
            "Requirement already satisfied: pydantic>=2.0 in c:\\project folder\\weather_assistant\\venv\\lib\\site-packages (from gradio) (2.8.2)\n",
            "Requirement already satisfied: pydub in c:\\project folder\\weather_assistant\\venv\\lib\\site-packages (from gradio) (0.25.1)\n",
            "Requirement already satisfied: python-multipart>=0.0.9 in c:\\project folder\\weather_assistant\\venv\\lib\\site-packages (from gradio) (0.0.9)\n",
            "Requirement already satisfied: pyyaml<7.0,>=5.0 in c:\\project folder\\weather_assistant\\venv\\lib\\site-packages (from gradio) (6.0.1)\n",
            "Requirement already satisfied: ruff>=0.2.2 in c:\\project folder\\weather_assistant\\venv\\lib\\site-packages (from gradio) (0.5.3)\n",
            "Requirement already satisfied: semantic-version~=2.0 in c:\\project folder\\weather_assistant\\venv\\lib\\site-packages (from gradio) (2.10.0)\n",
            "Requirement already satisfied: tomlkit==0.12.0 in c:\\project folder\\weather_assistant\\venv\\lib\\site-packages (from gradio) (0.12.0)\n",
            "Requirement already satisfied: typer<1.0,>=0.12 in c:\\project folder\\weather_assistant\\venv\\lib\\site-packages (from gradio) (0.12.3)\n",
            "Requirement already satisfied: typing-extensions~=4.0 in c:\\project folder\\weather_assistant\\venv\\lib\\site-packages (from gradio) (4.12.2)\n",
            "Requirement already satisfied: urllib3~=2.0 in c:\\project folder\\weather_assistant\\venv\\lib\\site-packages (from gradio) (2.2.2)\n",
            "Requirement already satisfied: uvicorn>=0.14.0 in c:\\project folder\\weather_assistant\\venv\\lib\\site-packages (from gradio) (0.30.1)\n",
            "Requirement already satisfied: fsspec in c:\\project folder\\weather_assistant\\venv\\lib\\site-packages (from gradio-client==1.1.0->gradio) (2024.6.1)\n",
            "Requirement already satisfied: websockets<12.0,>=10.0 in c:\\project folder\\weather_assistant\\venv\\lib\\site-packages (from gradio-client==1.1.0->gradio) (11.0.3)\n",
            "Requirement already satisfied: jsonschema>=3.0 in c:\\project folder\\weather_assistant\\venv\\lib\\site-packages (from altair<6.0,>=5.0->gradio) (4.23.0)\n",
            "Requirement already satisfied: toolz in c:\\project folder\\weather_assistant\\venv\\lib\\site-packages (from altair<6.0,>=5.0->gradio) (0.12.1)\n",
            "Requirement already satisfied: anyio in c:\\project folder\\weather_assistant\\venv\\lib\\site-packages (from httpx>=0.24.1->gradio) (4.4.0)\n",
            "Requirement already satisfied: certifi in c:\\project folder\\weather_assistant\\venv\\lib\\site-packages (from httpx>=0.24.1->gradio) (2024.7.4)\n",
            "Requirement already satisfied: httpcore==1.* in c:\\project folder\\weather_assistant\\venv\\lib\\site-packages (from httpx>=0.24.1->gradio) (1.0.5)\n",
            "Requirement already satisfied: idna in c:\\project folder\\weather_assistant\\venv\\lib\\site-packages (from httpx>=0.24.1->gradio) (3.7)\n",
            "Requirement already satisfied: sniffio in c:\\project folder\\weather_assistant\\venv\\lib\\site-packages (from httpx>=0.24.1->gradio) (1.3.1)\n",
            "Requirement already satisfied: h11<0.15,>=0.13 in c:\\project folder\\weather_assistant\\venv\\lib\\site-packages (from httpcore==1.*->httpx>=0.24.1->gradio) (0.14.0)\n",
            "Requirement already satisfied: filelock in c:\\project folder\\weather_assistant\\venv\\lib\\site-packages (from huggingface-hub>=0.19.3->gradio) (3.15.4)\n",
            "Requirement already satisfied: requests in c:\\project folder\\weather_assistant\\venv\\lib\\site-packages (from huggingface-hub>=0.19.3->gradio) (2.32.3)\n",
            "Requirement already satisfied: tqdm>=4.42.1 in c:\\project folder\\weather_assistant\\venv\\lib\\site-packages (from huggingface-hub>=0.19.3->gradio) (4.66.4)\n",
            "Requirement already satisfied: contourpy>=1.0.1 in c:\\project folder\\weather_assistant\\venv\\lib\\site-packages (from matplotlib~=3.0->gradio) (1.2.1)\n",
            "Requirement already satisfied: cycler>=0.10 in c:\\project folder\\weather_assistant\\venv\\lib\\site-packages (from matplotlib~=3.0->gradio) (0.12.1)\n",
            "Requirement already satisfied: fonttools>=4.22.0 in c:\\project folder\\weather_assistant\\venv\\lib\\site-packages (from matplotlib~=3.0->gradio) (4.53.1)\n",
            "Requirement already satisfied: kiwisolver>=1.3.1 in c:\\project folder\\weather_assistant\\venv\\lib\\site-packages (from matplotlib~=3.0->gradio) (1.4.5)\n",
            "Requirement already satisfied: pyparsing>=2.3.1 in c:\\project folder\\weather_assistant\\venv\\lib\\site-packages (from matplotlib~=3.0->gradio) (3.1.2)\n",
            "Requirement already satisfied: python-dateutil>=2.7 in c:\\project folder\\weather_assistant\\venv\\lib\\site-packages (from matplotlib~=3.0->gradio) (2.9.0.post0)\n",
            "Requirement already satisfied: pytz>=2020.1 in c:\\project folder\\weather_assistant\\venv\\lib\\site-packages (from pandas<3.0,>=1.0->gradio) (2024.1)\n",
            "Requirement already satisfied: tzdata>=2022.7 in c:\\project folder\\weather_assistant\\venv\\lib\\site-packages (from pandas<3.0,>=1.0->gradio) (2024.1)\n",
            "Requirement already satisfied: annotated-types>=0.4.0 in c:\\project folder\\weather_assistant\\venv\\lib\\site-packages (from pydantic>=2.0->gradio) (0.7.0)\n",
            "Requirement already satisfied: pydantic-core==2.20.1 in c:\\project folder\\weather_assistant\\venv\\lib\\site-packages (from pydantic>=2.0->gradio) (2.20.1)\n",
            "Requirement already satisfied: click>=8.0.0 in c:\\project folder\\weather_assistant\\venv\\lib\\site-packages (from typer<1.0,>=0.12->gradio) (8.1.7)\n",
            "Requirement already satisfied: shellingham>=1.3.0 in c:\\project folder\\weather_assistant\\venv\\lib\\site-packages (from typer<1.0,>=0.12->gradio) (1.5.4)\n",
            "Requirement already satisfied: rich>=10.11.0 in c:\\project folder\\weather_assistant\\venv\\lib\\site-packages (from typer<1.0,>=0.12->gradio) (13.7.1)\n",
            "Requirement already satisfied: starlette<0.38.0,>=0.37.2 in c:\\project folder\\weather_assistant\\venv\\lib\\site-packages (from fastapi->gradio) (0.37.2)\n",
            "Requirement already satisfied: fastapi-cli>=0.0.2 in c:\\project folder\\weather_assistant\\venv\\lib\\site-packages (from fastapi->gradio) (0.0.4)\n",
            "Requirement already satisfied: email_validator>=2.0.0 in c:\\project folder\\weather_assistant\\venv\\lib\\site-packages (from fastapi->gradio) (2.2.0)\n",
            "Requirement already satisfied: colorama in c:\\project folder\\weather_assistant\\venv\\lib\\site-packages (from click>=8.0.0->typer<1.0,>=0.12->gradio) (0.4.6)\n",
            "Requirement already satisfied: dnspython>=2.0.0 in c:\\project folder\\weather_assistant\\venv\\lib\\site-packages (from email_validator>=2.0.0->fastapi->gradio) (2.6.1)\n",
            "Requirement already satisfied: attrs>=22.2.0 in c:\\project folder\\weather_assistant\\venv\\lib\\site-packages (from jsonschema>=3.0->altair<6.0,>=5.0->gradio) (23.2.0)\n",
            "Requirement already satisfied: jsonschema-specifications>=2023.03.6 in c:\\project folder\\weather_assistant\\venv\\lib\\site-packages (from jsonschema>=3.0->altair<6.0,>=5.0->gradio) (2023.12.1)\n",
            "Requirement already satisfied: referencing>=0.28.4 in c:\\project folder\\weather_assistant\\venv\\lib\\site-packages (from jsonschema>=3.0->altair<6.0,>=5.0->gradio) (0.35.1)\n",
            "Requirement already satisfied: rpds-py>=0.7.1 in c:\\project folder\\weather_assistant\\venv\\lib\\site-packages (from jsonschema>=3.0->altair<6.0,>=5.0->gradio) (0.19.0)\n",
            "Requirement already satisfied: six>=1.5 in c:\\project folder\\weather_assistant\\venv\\lib\\site-packages (from python-dateutil>=2.7->matplotlib~=3.0->gradio) (1.16.0)\n",
            "Requirement already satisfied: markdown-it-py>=2.2.0 in c:\\project folder\\weather_assistant\\venv\\lib\\site-packages (from rich>=10.11.0->typer<1.0,>=0.12->gradio) (3.0.0)\n",
            "Requirement already satisfied: pygments<3.0.0,>=2.13.0 in c:\\project folder\\weather_assistant\\venv\\lib\\site-packages (from rich>=10.11.0->typer<1.0,>=0.12->gradio) (2.18.0)\n",
            "Requirement already satisfied: httptools>=0.5.0 in c:\\project folder\\weather_assistant\\venv\\lib\\site-packages (from uvicorn[standard]>=0.12.0->fastapi->gradio) (0.6.1)\n",
            "Requirement already satisfied: python-dotenv>=0.13 in c:\\project folder\\weather_assistant\\venv\\lib\\site-packages (from uvicorn[standard]>=0.12.0->fastapi->gradio) (1.0.1)\n",
            "Requirement already satisfied: watchfiles>=0.13 in c:\\project folder\\weather_assistant\\venv\\lib\\site-packages (from uvicorn[standard]>=0.12.0->fastapi->gradio) (0.22.0)\n",
            "Requirement already satisfied: charset-normalizer<4,>=2 in c:\\project folder\\weather_assistant\\venv\\lib\\site-packages (from requests->huggingface-hub>=0.19.3->gradio) (3.3.2)\n",
            "Requirement already satisfied: mdurl~=0.1 in c:\\project folder\\weather_assistant\\venv\\lib\\site-packages (from markdown-it-py>=2.2.0->rich>=10.11.0->typer<1.0,>=0.12->gradio) (0.1.2)\n"
          ]
        }
      ],
      "source": [
        "!pip install gradio"
      ]
    },
    {
      "cell_type": "code",
      "execution_count": 3,
      "metadata": {
        "id": "uwxkKihN2QmZ"
      },
      "outputs": [
        {
          "name": "stderr",
          "output_type": "stream",
          "text": [
            "c:\\project folder\\Weather_Assistant\\venv\\Lib\\site-packages\\tqdm\\auto.py:21: TqdmWarning: IProgress not found. Please update jupyter and ipywidgets. See https://ipywidgets.readthedocs.io/en/stable/user_install.html\n",
            "  from .autonotebook import tqdm as notebook_tqdm\n"
          ]
        }
      ],
      "source": [
        "import gradio as gr"
      ]
    },
    {
      "cell_type": "code",
      "execution_count": 4,
      "metadata": {
        "id": "XTNvZ6cSxCB6"
      },
      "outputs": [],
      "source": [
        "import openai"
      ]
    },
    {
      "cell_type": "code",
      "execution_count": 5,
      "metadata": {
        "id": "rcPCpgpzxCEk"
      },
      "outputs": [],
      "source": [
        "# Initialize OpenAI client\n",
        "openai.api_key = \"OPENAI_API_KEY\""
      ]
    },
    {
      "cell_type": "code",
      "execution_count": 7,
      "metadata": {
        "id": "ptBDzJdgxCHZ"
      },
      "outputs": [],
      "source": [
        "import requests\n",
        "\n",
        "def get_current_weather(location, unit='celsius'):\n",
        "    api_key = \"WEATHER_API_KEY\"\n",
        "    base_url = f\"http://api.openweathermap.org/data/2.5/weather?q={location}&appid={api_key}&units=metric\"\n",
        "    response = requests.get(base_url)\n",
        "    data = response.json()\n",
        "\n",
        "    weather_description = data['weather'][0]['description']\n",
        "    return {\n",
        "        \"location\": location,\n",
        "        \"temperature\": data['main']['temp'],\n",
        "        \"weather\": weather_description\n",
        "    }"
      ]
    },
    {
      "cell_type": "code",
      "execution_count": 8,
      "metadata": {
        "id": "uqmeVH3PxCKE"
      },
      "outputs": [],
      "source": [
        "functions = [\n",
        "    {\n",
        "        \"name\": \"get_current_weather\",\n",
        "        \"description\": \"Get the current weather in a given location\",\n",
        "        \"parameters\": {\n",
        "            \"type\": \"object\",\n",
        "            \"properties\": {\n",
        "                \"location\": {\n",
        "                    \"type\": \"string\",\n",
        "                    \"description\": \"The city, e.g. San Francisco\"\n",
        "                },\n",
        "                \"unit\": {\n",
        "                    \"type\": \"string\",\n",
        "                    \"enum\": [\"celsius\", \"fahrenheit\"]\n",
        "                }\n",
        "            },\n",
        "            \"required\": [\"location\"]\n",
        "        }\n",
        "    }\n",
        "]"
      ]
    },
    {
      "cell_type": "code",
      "execution_count": 12,
      "metadata": {
        "id": "PWgqHu05xCM1"
      },
      "outputs": [],
      "source": [
        "def weather_chat(user_message):\n",
        "    messages=[]\n",
        "    messages.append({\"role\": \"user\", \"content\": user_message})\n",
        "    messages.append({\"role\": \"assistant\", \"content\": \"You are a weather bot. Answer the questions related to weather only. Else politely say no to the user\"})\n",
        "        # Send the messages to OpenAI\n",
        "    response = openai.ChatCompletion.create(\n",
        "            model=\"gpt-3.5-turbo\",\n",
        "\n",
        "            messages=messages,\n",
        "            functions=functions\n",
        "        )\n",
        "\n",
        "\n",
        "    try:\n",
        "        function_call = response['choices'][0]['message']['function_call']\n",
        "        arguments = eval(function_call['arguments'])\n",
        "\n",
        "        # Fetch weather data using the extracted arguments\n",
        "        weather_data = get_current_weather(arguments['location'])\n",
        "\n",
        "        # Append the function call and weather data to the messages\n",
        "        messages.append({\"role\": \"assistant\", \"content\": None, \"function_call\": {\"name\": \"get_current_weather\", \"arguments\": str(arguments)}})\n",
        "        messages.append({\"role\": \"function\", \"name\": \"get_current_weather\", \"content\": str(weather_data)})\n",
        "\n",
        "        response = openai.ChatCompletion.create(\n",
        "            model=\"gpt-3.5-turbo\",\n",
        "            messages=messages\n",
        "        )\n",
        "\n",
        "        return response['choices'][0]['message']['content']\n",
        "    except Exception as e:\n",
        "        return \"I'm here to provide weather updates. Please ask me questions related to weather.\"\n",
        "\n"
      ]
    },
    {
      "cell_type": "code",
      "execution_count": 13,
      "metadata": {
        "colab": {
          "base_uri": "https://localhost:8080/",
          "height": 594
        },
        "id": "frFtD6UYxCVK",
        "outputId": "962fd8d2-3853-438c-d900-05d7b0e5c0a4"
      },
      "outputs": [
        {
          "name": "stdout",
          "output_type": "stream",
          "text": [
            "Running on local URL:  http://127.0.0.1:7862\n",
            "Running on public URL: https://b2e81eb943118ffe44.gradio.live\n",
            "\n",
            "This share link expires in 72 hours. For free permanent hosting and GPU upgrades, run `gradio deploy` from Terminal to deploy to Spaces (https://huggingface.co/spaces)\n"
          ]
        },
        {
          "data": {
            "text/html": [
              "<div><iframe src=\"https://b2e81eb943118ffe44.gradio.live\" width=\"100%\" height=\"500\" allow=\"autoplay; camera; microphone; clipboard-read; clipboard-write;\" frameborder=\"0\" allowfullscreen></iframe></div>"
            ],
            "text/plain": [
              "<IPython.core.display.HTML object>"
            ]
          },
          "metadata": {},
          "output_type": "display_data"
        },
        {
          "data": {
            "text/plain": []
          },
          "execution_count": 13,
          "metadata": {},
          "output_type": "execute_result"
        }
      ],
      "source": [
        "# Define Gradio interface\n",
        "iface = gr.Interface(\n",
        "    fn=weather_chat,\n",
        "    inputs=gr.Textbox(label=\"Weather Queries\"),\n",
        "    outputs=gr.Textbox(label=\"Weather Updates\"),\n",
        "    title = \"Weather Bot\",\n",
        "    description = \"Ask me anything about weather!\"\n",
        ")\n",
        "\n",
        "# Launch the Gradio interface\n",
        "iface.launch(share=\"True\")"
      ]
    }
  ],
  "metadata": {
    "colab": {
      "provenance": []
    },
    "kernelspec": {
      "display_name": "Python 3",
      "name": "python3"
    },
    "language_info": {
      "codemirror_mode": {
        "name": "ipython",
        "version": 3
      },
      "file_extension": ".py",
      "mimetype": "text/x-python",
      "name": "python",
      "nbconvert_exporter": "python",
      "pygments_lexer": "ipython3",
      "version": "3.12.0"
    }
  },
  "nbformat": 4,
  "nbformat_minor": 0
}
